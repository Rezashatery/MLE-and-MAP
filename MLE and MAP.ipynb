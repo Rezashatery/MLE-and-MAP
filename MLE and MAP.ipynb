{
 "cells": [
  {
   "cell_type": "markdown",
   "metadata": {},
   "source": [
    "# Maximum Likelihood (ML) and Maximum a Posteriori (MAP)"
   ]
  },
  {
   "cell_type": "markdown",
   "metadata": {},
   "source": [
    "## implementation of necessary functions"
   ]
  },
  {
   "cell_type": "code",
   "execution_count": 1,
   "metadata": {},
   "outputs": [],
   "source": [
    "import numpy as np\n",
    "import scipy\n",
    "import scipy.linalg\n",
    "import matplotlib.pyplot as plt\n",
    "\n",
    "np.random.seed(14)\n",
    "\n",
    "# The gradient_descent implementation.\n",
    "def gradient_descent(f, grad_f, X_tilda, w_init, y_noisy, kmax, tolf, tolx):\n",
    "    \n",
    "    # Initialization\n",
    "    w = np.zeros((kmax, w_init.size))\n",
    "    f_val = np.zeros((kmax, 1))\n",
    "    grads = np.zeros((kmax, w_init.size))\n",
    "    err = np.zeros((kmax, 1))\n",
    "    \n",
    "    # Assign the values for the first iteration\n",
    "    w[0, :] = w_init\n",
    "    f_val[0] = f(X_tilda, w[0, :], y_noisy)\n",
    "    grads[0, :] = grad_f(X_tilda, w[0, :], y_noisy)\n",
    "    err[0] = np.linalg.norm(grads[0, :], ord=2)\n",
    "    \n",
    "    # Choose step size\n",
    "    alpha = 0.1\n",
    "    \n",
    "    # Handle the condition for the first iteration\n",
    "    # if k = 0 then w[k-1, :] = w[-1, :]\n",
    "    w[-1, :] = np.ones((w_init.size,))\n",
    "    \n",
    "    # Start the iterations\n",
    "    k = 0\n",
    "    while (k < kmax-1 and\n",
    "          np.linalg.norm(grads[k, :], ord=2) > tolf * np.linalg.norm(grads[k-1, :], ord=2) and\n",
    "          np.linalg.norm((w[k, :]-w[k-1, :]), ord=2) > tolx):\n",
    "        \n",
    "        k = k + 1\n",
    "        \n",
    "        # Update the step size alpha\n",
    "        alpha = backtracking(f, grad_f, X_tilda, w[k, :], y_noisy)\n",
    "        \n",
    "        # Update the value of x\n",
    "        w[k, :] = w[k-1, :] - alpha * grads[k-1, :]\n",
    "        \n",
    "        # Update the values the the actual iteration\n",
    "        f_val[k] = f(X_tilda, w[k, :], y_noisy)\n",
    "        grads[k, :] = grad_f(X_tilda, w[k, :], y_noisy)\n",
    "        err[k] = np.linalg.norm(grads[k, :], ord=2)\n",
    "        \n",
    "        \n",
    "    \n",
    "    # Truncate the vectors that are (eventually) too long\n",
    "    f_val = f_val[:k+1]\n",
    "    grads = grads[:k+1,:]\n",
    "    err = err[:k+1]\n",
    "    w = w[:k+1,:]\n",
    "    return w, k, f_val, grads, err\n",
    "\n",
    "# modified backtracking\n",
    "def backtracking(f, grad_f, X_tilda, w, y_noisy):\n",
    "    \"\"\"\n",
    "    This function is a simple implementation of the backtracking algorithm for\n",
    "    the GD (Gradient Descent) method.\n",
    "    \n",
    "    f: function. The function that we want to optimize.\n",
    "    grad_f: function. The gradient of f(x).\n",
    "    x: ndarray. The actual iterate x_k.\n",
    "    \"\"\"\n",
    "    alpha = 1\n",
    "    c = 0.8\n",
    "    tau = 0.25\n",
    "    \n",
    "    while f(X_tilda, (w - alpha * grad_f(X_tilda, w, y_noisy)), y_noisy) > f(X_tilda, w, y_noisy) - c * alpha * np.linalg.norm(grad_f(X_tilda, w, y_noisy), 2) ** 2:\n",
    "        alpha = tau * alpha\n",
    "        # next line prevent alpha to go extremely low\n",
    "        if alpha < 1e-5:\n",
    "            break\n",
    "    return alpha"
   ]
  },
  {
   "cell_type": "markdown",
   "metadata": {},
   "source": [
    "## creation of dataset"
   ]
  },
  {
   "cell_type": "code",
   "execution_count": 2,
   "metadata": {},
   "outputs": [],
   "source": [
    "# create a N x n+1 Vandermode matrix\n",
    "n = 3   # the true degree of polynomial\n",
    "N =  20 # number of samples\n",
    "\n",
    "# input\n",
    "x = np.linspace(0, 1, N)\n",
    "\n",
    "# vandermonde creation\n",
    "X = np.vander(x, n)\n",
    "\n",
    "# true weights\n",
    "w_true = np.ones((n,))\n",
    "\n",
    "# outputs\n",
    "y_true = X @ w_true\n",
    "\n",
    "# add normal noise (mean=0, std=0.1)\n",
    "y_noisy = y_true + np.random.normal(0, 0.1, y_true.shape)"
   ]
  }
 ],
 "metadata": {
  "kernelspec": {
   "display_name": "gpu_env",
   "language": "python",
   "name": "python3"
  },
  "language_info": {
   "codemirror_mode": {
    "name": "ipython",
    "version": 3
   },
   "file_extension": ".py",
   "mimetype": "text/x-python",
   "name": "python",
   "nbconvert_exporter": "python",
   "pygments_lexer": "ipython3",
   "version": "3.9.19"
  }
 },
 "nbformat": 4,
 "nbformat_minor": 2
}
